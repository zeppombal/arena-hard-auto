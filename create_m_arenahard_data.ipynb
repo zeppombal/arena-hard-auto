{
 "cells": [
  {
   "cell_type": "code",
   "execution_count": 1,
   "metadata": {},
   "outputs": [],
   "source": [
    "from datasets import load_dataset\n",
    "from pathlib import Path"
   ]
  },
  {
   "cell_type": "code",
   "execution_count": null,
   "metadata": {},
   "outputs": [],
   "source": [
    "langs = (\n",
    "    \"ar\",\n",
    "    \"cs\",\n",
    "    \"de\",\n",
    "    \"el\",\n",
    "    \"fr\",\n",
    "    \"he\",\n",
    "    \"hi\",\n",
    "    \"id\",\n",
    "    \"it\",\n",
    "    \"ja\",\n",
    "    \"ko\",\n",
    "    \"nl\",\n",
    "    \"fa\",\n",
    "    \"pl\",\n",
    "    \"pt\",\n",
    "    \"ro\",\n",
    "    \"ru\",\n",
    "    \"es\",\n",
    "    \"tr\",\n",
    "    \"uk\",\n",
    "    \"vi\",\n",
    "    \"zh\",\n",
    ")\n",
    "\n",
    "for l in langs:\n",
    "    d = load_dataset(\"CohereForAI/m-ArenaHard\", l, split=\"test\").to_pandas()\n",
    "    d[\"category\"] = f\"m-arena-hard-{l}\"\n",
    "    d[\"turns\"] = d[\"prompt\"].apply(lambda x: [{\"content\": x}])\n",
    "    d = d.drop(columns=[\"prompt\"])\n",
    "    path = Path(f\"data/m-arena-hard-{l}/question.jsonl\")\n",
    "    path.parent.mkdir(parents=True, exist_ok=True)\n",
    "    d.to_json(path, orient=\"records\", lines=True, force_ascii=False)"
   ]
  }
 ],
 "metadata": {
  "kernelspec": {
   "display_name": "venv",
   "language": "python",
   "name": "python3"
  },
  "language_info": {
   "codemirror_mode": {
    "name": "ipython",
    "version": 3
   },
   "file_extension": ".py",
   "mimetype": "text/x-python",
   "name": "python",
   "nbconvert_exporter": "python",
   "pygments_lexer": "ipython3",
   "version": "3.10.12"
  }
 },
 "nbformat": 4,
 "nbformat_minor": 2
}
